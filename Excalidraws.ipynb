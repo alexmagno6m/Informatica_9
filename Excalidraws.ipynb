{
 "cells": [
  {
   "cell_type": "markdown",
   "id": "7696e46c-33a0-4331-a840-22c7786063d0",
   "metadata": {},
   "source": [
    "### Asignatura: Informática grado 9"
   ]
  },
  {
   "cell_type": "markdown",
   "id": "230ca272-714a-4af0-9f42-76b9e1947ba3",
   "metadata": {},
   "source": [
    "- Profesor: __Alexander Acevedo Gómez__\n",
    "- Ingeniero de sistemas\n",
    "- __Mágister en Modelado y Simulación__\n",
    "- @Alex6m"
   ]
  },
  {
   "cell_type": "markdown",
   "id": "138ddaeb-d066-4eb2-b21d-194144058515",
   "metadata": {},
   "source": [
    "# Excalidraws"
   ]
  },
  {
   "cell_type": "markdown",
   "id": "4c198350-be65-4f02-a4eb-7d530fecd97f",
   "metadata": {},
   "source": [
    "Los siguientes Excalidraws fueron diseñados y son de audotoria del docente que encabeza este Notebook."
   ]
  },
  {
   "cell_type": "markdown",
   "id": "dcc89021-d4b2-4889-8468-ce26f186e94f",
   "metadata": {},
   "source": [
    "## Clasificación de las bases de datos"
   ]
  },
  {
   "cell_type": "markdown",
   "id": "ad3da027-b89f-4f24-95ec-45c28065d0c2",
   "metadata": {},
   "source": [
    "[Descargue en este enlace](https://excalidraw.com/#json=eJD_d14txWfRDHiJFiLG1,DUkfoO69d9Xi8ZpMn2TiVQ)"
   ]
  },
  {
   "cell_type": "markdown",
   "id": "fc3aeb22-62dd-410d-ac33-bba074e1ab68",
   "metadata": {},
   "source": [
    "## Algortimos "
   ]
  },
  {
   "cell_type": "markdown",
   "id": "9cebe3fa-33dd-44e4-be2f-9ac6db1bcd41",
   "metadata": {},
   "source": [
    "[Caracteristicas de algoritmos](https://excalidraw.com/#json=gCt9EEqW47GTBbDWekWiq,tj8rCOk_m8ApxpQXnuCdzg)"
   ]
  }
 ],
 "metadata": {
  "kernelspec": {
   "display_name": "Python 3 (ipykernel)",
   "language": "python",
   "name": "python3"
  },
  "language_info": {
   "codemirror_mode": {
    "name": "ipython",
    "version": 3
   },
   "file_extension": ".py",
   "mimetype": "text/x-python",
   "name": "python",
   "nbconvert_exporter": "python",
   "pygments_lexer": "ipython3",
   "version": "3.12.1"
  }
 },
 "nbformat": 4,
 "nbformat_minor": 5
}
