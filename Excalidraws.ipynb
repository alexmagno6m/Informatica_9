{
 "cells": [
  {
   "cell_type": "markdown",
   "id": "7696e46c-33a0-4331-a840-22c7786063d0",
   "metadata": {},
   "source": [
    "### Asignatura: Informática grado 9"
   ]
  },
  {
   "cell_type": "markdown",
   "id": "d1f06eba-6777-48fe-af79-234b68c9ae76",
   "metadata": {},
   "source": [
    "- __Profesor:__ Alexander Acevedo Gómez\n",
    "- Ingeniero de sistemas"
   ]
  },
  {
   "cell_type": "markdown",
   "id": "138ddaeb-d066-4eb2-b21d-194144058515",
   "metadata": {},
   "source": [
    "# Excalidraws"
   ]
  },
  {
   "cell_type": "markdown",
   "id": "4c198350-be65-4f02-a4eb-7d530fecd97f",
   "metadata": {},
   "source": [
    "Los siguientes Excalidraws fueron diseñados y son de audotoria del docente que encabeza este Notebook."
   ]
  },
  {
   "cell_type": "markdown",
   "id": "dcc89021-d4b2-4889-8468-ce26f186e94f",
   "metadata": {},
   "source": [
    "## Clasificación de las bases de datos"
   ]
  },
  {
   "cell_type": "markdown",
   "id": "ad3da027-b89f-4f24-95ec-45c28065d0c2",
   "metadata": {},
   "source": [
    "[Descargue en este enlace](https://excalidraw.com/#json=eJD_d14txWfRDHiJFiLG1,DUkfoO69d9Xi8ZpMn2TiVQ)"
   ]
  }
 ],
 "metadata": {
  "kernelspec": {
   "display_name": "Python 3 (ipykernel)",
   "language": "python",
   "name": "python3"
  },
  "language_info": {
   "codemirror_mode": {
    "name": "ipython",
    "version": 3
   },
   "file_extension": ".py",
   "mimetype": "text/x-python",
   "name": "python",
   "nbconvert_exporter": "python",
   "pygments_lexer": "ipython3",
   "version": "3.9.4"
  }
 },
 "nbformat": 4,
 "nbformat_minor": 5
}
