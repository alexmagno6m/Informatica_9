{
 "cells": [
  {
   "cell_type": "markdown",
   "id": "e8da5f96-099b-4d8d-8cee-105ddf5a4735",
   "metadata": {},
   "source": [
    "# Plan de Trabajo Informática Grado Noveno"
   ]
  },
  {
   "cell_type": "markdown",
   "id": "f6f8b095-21ff-417b-8ced-1c73a1e22b76",
   "metadata": {},
   "source": [
    "__Profesor__: Alexander Acevedo Gomez"
   ]
  },
  {
   "cell_type": "markdown",
   "id": "3d8047dc-684f-4ad5-bc0d-0233e55b6101",
   "metadata": {},
   "source": [
    "Ingeniero de Sistemas\n",
    "__Universidad Nacional de Colombia__\n",
    "\n",
    "__MSc Modelado y Simulación__\n",
    "\n",
    "__Universidad Jorge Tadeo Lozano__"
   ]
  },
  {
   "cell_type": "markdown",
   "id": "0ebbd589-113d-417b-9bde-a4ba60a66004",
   "metadata": {},
   "source": [
    "## Introducción"
   ]
  },
  {
   "cell_type": "markdown",
   "id": "4c78fbe4-96b1-4611-82de-2b4b3545d424",
   "metadata": {},
   "source": [
    "Estimado estudiante: Nuestro colegio está implementando el Enfoque de Aprendizaje autónomo. Para ello, es importante que conozcas cuáles son tus fortalezas y debilidades, las inteligencias que tienes más y menos desarrolladas, las estrategias de aprendizaje que utilizas, las asignaturas que más y menos te gustan, entre otros aspectos.\n",
    "\n",
    "A continuación, vas a elaborar un Plan de trabajo con el fin de definir metas que te ayuden a superar las dificultades en la asignatura y a profundizar más en los temas que te interesan. Con base en los desempeños que tu docente te ha presentado, debes definir metas reales y alcanzables y actividades que te motiven y definir tiempos y recursos para lograrlas.\n"
   ]
  },
  {
   "cell_type": "markdown",
   "id": "cfad1c96-9d7e-4d4e-a580-9301e6e67c09",
   "metadata": {},
   "source": [
    "## Instrucciones"
   ]
  },
  {
   "cell_type": "markdown",
   "id": "322ba65d-1332-4041-a351-f3172b683441",
   "metadata": {},
   "source": [
    "Realice el plan de trabajo con los siguientes parametros para poder obtener los 4 puntos de su valor:\n",
    "1. Copie los cuatro ambitos conceptuales del periodo actual.\n",
    "2. Copie las cuatro competencias segun el periodo que se inicia.\n",
    "3. Por cada compentencia escriba 3 pasos como minimo\n",
    "4. Escriba los recursos que considera va emplear para alcanzar las competencias, minimo 4 recursos generales\n",
    "5. Asigne las fechas indicadas por el profesor en clase."
   ]
  },
  {
   "cell_type": "markdown",
   "id": "acfbbfcc-8746-4167-b67e-6f9e8e74bb84",
   "metadata": {},
   "source": [
    "> ### Sugerencia\n",
    ">\n",
    "> Para aprovechar el espacio en su cuaderno, puede  copiar al ambito conceptual o las competencias en una hoja aparte y realizar el resto de la tabla al respaldo."
   ]
  },
  {
   "cell_type": "markdown",
   "id": "bd893eae-c404-463a-9307-506a2efd271f",
   "metadata": {},
   "source": [
    "| AMBITO CONCEPTUAL                     |     COMPETENCIAS                                  |     FECHAS                                                                   |     PASOS   PARA ALCANZAR LA COMPETENCIA                        |     RECURSOS                                     |     AUTOEVALUACION   Y FIRMA PROFESOR    |\n",
    "|---------------------------------------|---------------------------------------------------|------------------------------------------------------------------------------|-----------------------------------------------------------------|--------------------------------------------------|------------------------------------------|\n",
    "| Copie los cuatro ambitos conceptuales |         Copie las cuatro competencias del periodo |                                 Escriba las fechas indicadas por el profesor |         Escriba minimo 3 pasos por cada una de las competencias |         Escriba 4 recursos generales como minimo |         Deje vacío este espacio          |"
   ]
  },
  {
   "cell_type": "markdown",
   "id": "bd03e032-7226-434b-827b-ed6d915a7267",
   "metadata": {
    "editable": true,
    "slideshow": {
     "slide_type": ""
    },
    "tags": []
   },
   "source": [
    "| Periodo |     Ámbito conceptual                                                                |     Competencias                                                                                                                                                                                                                                                                |\n",
    "|---------|--------------------------------------------------------------------------------------|---------------------------------------------------------------------------------------------------------------------------------------------------------------------------------------------------------------------------------------------------------------------------------|\n",
    "| 1       |     1.1 Tipos de datos y su manipulación en la   hoja de cálculo                     |     Los estudiantes comprenderán la   utilidad de las hojas de cálculo para organizar y analizar datos   identificando los tipos de datos y manipularlos correctamente de acuerdo a su   origen.                                                                                |\n",
    "|         |     1.2 Creación de funciones personalizadas   para la solución de problemas.        |     Creación de funciones personalizadas,   sintácticamente correctas para proponer una solución efectiva a problemas   cotidianos propuestos.                                                                                                                                  |\n",
    "|         |     1.3 Visualización de datos en tablas   autogeneradas y gráficos según su tipo    |     Organiza correctamente los datos en   tablas autogeneradas empleando con asertividad las herramientas de la hoja de   cálculo destinadas para ese fin y representarlos en los gráficos apropiados   según su tipo                                                           |\n",
    "|         |     1.4 Disposición actitudinal.                                                     |     Manifiesta su compromiso frente a su   proyecto de vida a través de su puntualidad y cumplimiento de sus deberes   académicos, sus actitudes reflejan                                                                                                                       |\n",
    "| 2       |     2.1 La presentación de ideas, su   importancia y casos de uso                    |     Comprende con claridad la importancia de   las herramientas computacionales en la presentación de ideas secuenciales o   directas, como un medio para expresarlas con contundencia de forma amena y   atractiva, identificando con acierto los principales casos de uso.    |\n",
    "|         |     2.2 Presentaciones de ideas en formato   secuencial.                             |     Realiza presentaciones atractivas sobre   un tema particular, empleando las herramientas básicas de visualización y   diseño en una paleta de colores adecuadas que comunican una idea en forma   secuencial de manera clara, atractiva y estética.                         |\n",
    "|         |     2.3 Las infografías, características y   creación.                               |     Crea infografías que transmiten en   forma clara, precisa y atractiva un concepto, evento o tema de interés cubriendo   estructuradamente sus diferentes componentes.                                                                                                       |\n",
    "|         |     2.4 Murales digitales colaborativos                                              |     Trabaja en equipo con pertinencia para   crear murales digitales colaborativos en herramientas computacionales como Figjam   o Padlet, para presentar en formato resumido pensamientos, e ideas clave   sobre un tema de interés.                                           |\n",
    "|         |     2.5 Disposición actitudinal                                                      |     Manifiesta su compromiso frente a su   proyecto de vida a través de su puntualidad y cumplimiento de sus deberes   académicos, sus actitudes reflejan un comportamiento socioemocional esperado   y acorde a su edad.                                                       |"
   ]
  }
 ],
 "metadata": {
  "kernelspec": {
   "display_name": "Python 3 (ipykernel)",
   "language": "python",
   "name": "python3"
  },
  "language_info": {
   "codemirror_mode": {
    "name": "ipython",
    "version": 3
   },
   "file_extension": ".py",
   "mimetype": "text/x-python",
   "name": "python",
   "nbconvert_exporter": "python",
   "pygments_lexer": "ipython3",
   "version": "3.12.1"
  }
 },
 "nbformat": 4,
 "nbformat_minor": 5
}
