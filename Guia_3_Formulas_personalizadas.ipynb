{
 "cells": [
  {
   "cell_type": "markdown",
   "id": "f83f13dd-8b29-4f4a-b905-c6bf7a8be174",
   "metadata": {},
   "source": [
    "# Guia 3 - Ejercicios de fórmulas personalizadas con referencias relativas y absolutas"
   ]
  },
  {
   "cell_type": "markdown",
   "id": "78d10680-4c1f-4bed-8af2-2320e2d609e2",
   "metadata": {},
   "source": [
    "Lea con atención cada ejercicio, debe emplear sus propias formulas para solucionar el problema segun las instrucciones de cada problema."
   ]
  },
  {
   "cell_type": "markdown",
   "id": "2455d92f-a65a-472a-ad51-eba98b049149",
   "metadata": {},
   "source": [
    "## Obtención del sello"
   ]
  },
  {
   "cell_type": "markdown",
   "id": "78b806b7-ad10-4f08-8352-9e380d2491f6",
   "metadata": {},
   "source": [
    "> Antes de empezar con los ejercicios escriba en su cuaderno lo siguiente:\n",
    ">\n",
    "> __Nombre de la actividad__: Empleo de formulas personalizadas en la solución de problemas\n",
    ">\n",
    "> __Ambito conceptual__: Creación de funciones personalizadas, sintácticamente correctas para proponer una solución efectiva a problemas cotidianos propuestos.\n",
    "> \n",
    "> __Competencia__: 2\n",
    ">\n",
    "> __Obtetivo__: Resolver problemas empleando correctamente formulas personalizadas como una solución satisfactoria a sus requerimientos."
   ]
  },
  {
   "cell_type": "markdown",
   "id": "c0ba3a29-63f3-4113-b35d-4bf8c61a1ae6",
   "metadata": {},
   "source": [
    "## Ejercicio 1 - Cálculo de precios con impuestos y descuentos"
   ]
  },
  {
   "cell_type": "markdown",
   "id": "608fd131-e912-4537-baa1-03b8048fbd3a",
   "metadata": {},
   "source": [
    "En la ```hoja1``` de Excel copie la siguiente tabla como se ha explicado en anteriores clases"
   ]
  },
  {
   "cell_type": "markdown",
   "id": "335432e0-9b5d-4c19-8225-8a9dd3e8e8c3",
   "metadata": {},
   "source": [
    "| Producto   | Precio    | Cantidad |\n",
    "|------------|-----------|----------|\n",
    "| Camisa     | 211370.94 | 5        |\n",
    "| Pantalon   | 206935.67 | 3        |\n",
    "| Zapatos    | 113536.39 | 12       |\n",
    "| Gorra      | 101014.24 | 13       |\n",
    "| Jeans      | 206452.74 | 17       |\n",
    "| Camisetas  | 151660.73 | 19       |\n",
    "| Medias     | 149446.18 | 19       |\n",
    "| Sudadera   | 106040.35 | 15       |\n",
    "| Chaqueta   | 221009.32 | 16       |\n",
    "| Saco       | 188783.12 | 18       |\n",
    "| Cinturones | 298265.54 | 4        |"
   ]
  },
  {
   "cell_type": "markdown",
   "id": "bd077089-5e34-45eb-9956-7ac2c4a76757",
   "metadata": {},
   "source": [
    "1. Convierta los datos a tabla\n",
    "2. Reemplace puntos por comas\n",
    "3. Agregue la columna __```Subtotal```__ y calcule ```Precio x Cantidad```\n",
    "4. Agregue la columna __```Descuento 10%```__, calcule el 10% al subtotal\n",
    "5. Agregue la columna __```Precio con descuento```__, restando al ```subtotal``` el descuento calculado en el punto anterior\n",
    "6. Agregue la columna __```IVA 19%```__, calcule el 19% sobre el ```Precio con descuento```.\n",
    "7. Agregue la columna __```Precio final```__ sumando las columnas ```Precio con descuento + IVA```."
   ]
  },
  {
   "cell_type": "markdown",
   "id": "0b1a1935-8973-4a6a-ab87-a2b4248ec7e4",
   "metadata": {},
   "source": [
    "## Ejercicio 2 - Control de salario con horas extras y deducciones"
   ]
  },
  {
   "cell_type": "markdown",
   "id": "f280b408-0017-4957-aeda-349ab7196c31",
   "metadata": {},
   "source": [
    "En la ```hoja2``` copie la siguiente tabla"
   ]
  },
  {
   "cell_type": "markdown",
   "id": "5a4e5f16-dc06-412f-8361-ea757e69e251",
   "metadata": {},
   "source": [
    "| Empleado | Salario Base | Horas Extras | Pago por Horas extras |\n",
    "|----------|--------------|--------------|-----------------------|\n",
    "| Harriott | 7954476      | 16           | 69018                 |\n",
    "| Iolanthe | 5548351      | 3            | 70878                 |\n",
    "| Reinwald | 4588911      | 2            | 66293                 |\n",
    "| Ric      | 5455683      | 18           | 70537                 |\n",
    "| Katerina | 3742287      | 13           | 39242                 |\n",
    "| Saxon    | 5603621      | 20           | 32859                 |\n",
    "| Nadiya   | 3101810      | 10           | 67988                 |\n",
    "| Lurline  | 1172520      | 13           | 78924                 |\n",
    "| Jordanna | 6904104      | 19           | 40880                 |\n",
    "| Elfie    | 6696081      | 4            | 46932                 |\n",
    "| Franzen  | 5986249      | 8            | 45296                 |\n",
    "| Teodoor  | 6207706      | 15           | 62385                 |\n",
    "| Arabelle | 7344350      | 5            | 51270                 |\n",
    "| Euell    | 2909208      | 9            | 44453                 |\n",
    "| Wylma    | 1115330      | 12           | 20455                 |\n",
    "| Nerita   | 1361899      | 8            | 37083                 |\n",
    "| Danny    | 2585020      | 9            | 56193                 |\n",
    "| Carmela  | 1014024      | 20           | 21907                 |\n",
    "| Jourdan  | 5751822      | 3            | 68816                 |\n",
    "| Alli     | 7387943      | 19           | 47839                 |"
   ]
  },
  {
   "cell_type": "markdown",
   "id": "ac57d80c-d16e-489b-9bf0-0739b6a86520",
   "metadata": {},
   "source": [
    "1. Convierta los datos a tabla\n",
    "2. Agregue la columna __```Total horas extras```__ multiplicando ```Horas Extras x Pago por horas extras```\n",
    "3. Agregue la columna __```Deducción```__, en ella debe aplicar una deducción (resta) del 5% sobre el ```Salario base```.\n",
    "4. Agregue la columna __```Salario neto```__, calcule el valor final que recibe cada trabajador que corresponde a ```Salario Base + Total Horas Extra - Deducción```"
   ]
  }
 ],
 "metadata": {
  "kernelspec": {
   "display_name": "Python 3 (ipykernel)",
   "language": "python",
   "name": "python3"
  },
  "language_info": {
   "codemirror_mode": {
    "name": "ipython",
    "version": 3
   },
   "file_extension": ".py",
   "mimetype": "text/x-python",
   "name": "python",
   "nbconvert_exporter": "python",
   "pygments_lexer": "ipython3",
   "version": "3.12.1"
  }
 },
 "nbformat": 4,
 "nbformat_minor": 5
}
