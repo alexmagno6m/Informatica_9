{
 "cells": [
  {
   "cell_type": "markdown",
   "id": "293dab3f",
   "metadata": {},
   "source": [
    "# Guia 6 - Bases de datos relacionales - parte 1"
   ]
  },
  {
   "cell_type": "markdown",
   "id": "4d91028a-5b5d-4aa1-b7af-0931fbab4d1e",
   "metadata": {},
   "source": [
    "- Profesor: __Alexander Acevedo Gómez__\n",
    "- Ingeniero de sistemas\n",
    "- __Mágister en Modelado y Simulación__\n",
    "- @Alex6m"
   ]
  },
  {
   "cell_type": "markdown",
   "id": "9cbda5e7-c102-4de6-844b-674139660d98",
   "metadata": {},
   "source": [
    "La siguiente actividad es teórica, debes realizar dos diagramas uno en el cuaderno y otro en la app DrawIO"
   ]
  },
  {
   "cell_type": "markdown",
   "id": "71dae77d-8fae-4783-9502-27f834388471",
   "metadata": {},
   "source": [
    "### Obtención  del sello"
   ]
  },
  {
   "cell_type": "markdown",
   "id": "8991a823-a98d-4051-8172-9cd48a6694d3",
   "metadata": {},
   "source": [
    "Copia en tu cuaderno:"
   ]
  },
  {
   "cell_type": "markdown",
   "id": "17390a4a-57db-4c97-acb3-ca649676710a",
   "metadata": {},
   "source": [
    "> 1. Competencia: 1\n",
    "> 2. Ámbito conceptual: bases de datos relacionales conceptos y fundamentos\n",
    "> 3. Objetivo: Comprender el concepto de base de datos relacional, su estructura y los diferentes componentes que las integran para abstraer conceptos como relaciones, clave principal y clave foránea."
   ]
  },
  {
   "cell_type": "markdown",
   "id": "a7e392b3-9048-4592-8a94-f14132cdd378",
   "metadata": {},
   "source": [
    "## Desarrolla"
   ]
  },
  {
   "cell_type": "markdown",
   "id": "e3d1d3a7-ada6-4436-884f-f25508efa435",
   "metadata": {},
   "source": [
    "1. Realiza en tu cuaderno el diagrama que encuentras en el siguiente enlace (valor 5 puntos)"
   ]
  },
  {
   "cell_type": "markdown",
   "id": "44d44f7f-bd5c-4bad-adea-b8936a6e6fea",
   "metadata": {},
   "source": [
    "> [Enlace al diagrama](https://excalidraw.com/#json=JGfbzCH74YQmjCuhxAxuy,JGylTrmIm5sGgOc2jgmjRg)"
   ]
  },
  {
   "cell_type": "markdown",
   "id": "a78a27c8-6d74-4b66-9942-ef79730c7e7a",
   "metadata": {},
   "source": [
    "2. Ahora empleando la app `DrawIO` replica el siguiente diagrama (valor 5 puntos), antes de hacerlo ten en cuenta de:"
   ]
  },
  {
   "cell_type": "markdown",
   "id": "c2afd38f-d32d-487b-87c8-3efefc454a9c",
   "metadata": {},
   "source": [
    "- Escribir _\"relación\"_ en el cuadro de búsqueda\n",
    "- Las Lineas que unen las tablas no son flechas normales, sino un tipo de conectores llamados \"_conector tipo pata de cuervo_\" y las encuentras en la misma sección donde están las tablas. El conector que empleamos es el que se muestra abajo `1 to many`:"
   ]
  },
  {
   "cell_type": "markdown",
   "id": "057b3974-727f-4679-b242-bcf8c4013259",
   "metadata": {},
   "source": [
    "> ![pata de cuervo](pata_cuervo.png)"
   ]
  },
  {
   "cell_type": "markdown",
   "id": "67627920-cd32-4ea9-92dd-900c2f82c888",
   "metadata": {},
   "source": [
    "- Finalmente realiza el diagrama en DrawIO el cual muestra dos ejemplos:"
   ]
  },
  {
   "attachments": {},
   "cell_type": "markdown",
   "id": "7679b8a0",
   "metadata": {},
   "source": [
    ">![enlace diagrama DrawIO](ejemplos_tablas_relaciones.svg)"
   ]
  }
 ],
 "metadata": {
  "kernelspec": {
   "display_name": "Python 3 (ipykernel)",
   "language": "python",
   "name": "python3"
  },
  "language_info": {
   "codemirror_mode": {
    "name": "ipython",
    "version": 3
   },
   "file_extension": ".py",
   "mimetype": "text/x-python",
   "name": "python",
   "nbconvert_exporter": "python",
   "pygments_lexer": "ipython3",
   "version": "3.12.1"
  }
 },
 "nbformat": 4,
 "nbformat_minor": 5
}
