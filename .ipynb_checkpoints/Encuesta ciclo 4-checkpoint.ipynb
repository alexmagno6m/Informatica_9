{
 "cells": [
  {
   "cell_type": "markdown",
   "id": "494ab908-93e3-49e4-80df-7dc60ba805cf",
   "metadata": {},
   "source": [
    "## Encuesta cognitiva - Ciclo IV"
   ]
  },
  {
   "cell_type": "markdown",
   "id": "4123991d-1e05-490b-a6ba-ebf8434f35d0",
   "metadata": {},
   "source": [
    "- En el link de abajo encontrará la encuesta cognitiva de ciclo IV\n",
    "- Debe contestar todas las preguntas con honestidad"
   ]
  },
  {
   "cell_type": "markdown",
   "id": "3c2d338e-fcd3-4313-b5c3-9b1f640e12eb",
   "metadata": {},
   "source": [
    "[Encuesta estilos de aprendizaje](https://www.psicoactiva.com/test/test-de-estilos-de-aprendizaje-de-vark.htm)"
   ]
  },
  {
   "cell_type": "markdown",
   "id": "79e4e9cb-665a-463c-b9fd-d27e9151863a",
   "metadata": {},
   "source": [
    "- Una vez sepa su estilo de aprendizaje, responda esta ultima encuesta"
   ]
  },
  {
   "cell_type": "markdown",
   "id": "ff5ee91c-4671-478a-85b1-e86c5530874c",
   "metadata": {},
   "source": [
    "[Link Encuesta Cognitiva Ciclo IV](https://docs.google.com/forms/d/e/1FAIpQLScVFjBdXk-HrCfuZ_BG8go8HPfFvybJSq8D89UKqigh5yU13w/viewform)"
   ]
  }
 ],
 "metadata": {
  "kernelspec": {
   "display_name": "Python 3 (ipykernel)",
   "language": "python",
   "name": "python3"
  },
  "language_info": {
   "codemirror_mode": {
    "name": "ipython",
    "version": 3
   },
   "file_extension": ".py",
   "mimetype": "text/x-python",
   "name": "python",
   "nbconvert_exporter": "python",
   "pygments_lexer": "ipython3",
   "version": "3.9.4"
  }
 },
 "nbformat": 4,
 "nbformat_minor": 5
}
