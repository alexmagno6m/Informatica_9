{
 "cells": [
  {
   "cell_type": "markdown",
   "id": "fc7550e1-8e35-4c58-a829-9dae59a64dcb",
   "metadata": {},
   "source": [
    "- __Diseñada por__: Alexander Acevedo Gómez\n",
    "- Docente de Informática y Programación\n",
    "- Ingeniero de sistemas\n",
    "- Magister en Modelado y Simulación por computador"
   ]
  },
  {
   "cell_type": "markdown",
   "id": "027362b3-2548-4a5c-957e-59baf6db4cd9",
   "metadata": {},
   "source": [
    "# Guía 4: Formulas personalizadas - Porcentajes"
   ]
  },
  {
   "cell_type": "markdown",
   "id": "09c35997-a715-4890-aeea-41108624132d",
   "metadata": {},
   "source": [
    "Lea con atención cada ejercicio, debe emplear sus propias formulas para solucionar el problema segun las instrucciones de cada problemay lo explicado en clase por el profesor."
   ]
  },
  {
   "cell_type": "markdown",
   "id": "75421777-12bd-45e1-bf36-333d47a3b4ba",
   "metadata": {},
   "source": [
    "## Obtención del sello"
   ]
  },
  {
   "cell_type": "markdown",
   "id": "5b17e37b-417a-4e76-89c0-dcae3aaa2d1e",
   "metadata": {},
   "source": [
    "> Antes de empezar con los ejercicios escriba en su cuaderno lo siguiente:\n",
    ">\n",
    "> __Nombre de la actividad__: Obtención de porcentajes en la hoja de cálculo\n",
    ">\n",
    "> __Ambito conceptual__: Creación de funciones personalizadas, sintácticamente correctas para proponer una solución efectiva a problemas cotidianos propuestos.\n",
    "> \n",
    "> __Competencia__: 2\n",
    ">\n",
    "> __Obtetivo__: Obtener el reparto proporcional empleando con acierto porcentajes y formulas personalizadas en la hoja de cálculo."
   ]
  },
  {
   "cell_type": "markdown",
   "id": "113cfc75-c8f9-4a02-9a22-4aa1c0a6a916",
   "metadata": {},
   "source": [
    "## Problema 1"
   ]
  },
  {
   "cell_type": "markdown",
   "id": "b320b87a-f62c-43bc-91f8-61f60e696017",
   "metadata": {},
   "source": [
    "Cuatro amigos (Ana, Luis, Sofía y Marcos) decidieron invertir en un emprendimiento. En total, reunieron $15,000 de la siguiente manera:"
   ]
  },
  {
   "cell_type": "markdown",
   "id": "bbf233fc-27cc-4705-900d-4017fb54ecea",
   "metadata": {},
   "source": [
    "|   Persona  |   Aporte ($)  |\n",
    "|------------|---------------|\n",
    "|   Ana      |   4000        |\n",
    "|   Luis     |   3500        |\n",
    "|   Sofía    |   5000        |\n",
    "|   Marcos   |   2500        |"
   ]
  },
  {
   "cell_type": "markdown",
   "id": "64edb04d-7429-4adf-a622-9e2fd6ac7839",
   "metadata": {},
   "source": [
    "Después de varios meses, el negocio tuvo una ganancia de $9,000. ¿Cuánto le corresponde a cada uno según su aporte?\n",
    "1. Agregue una columna con el porcentaje correspondiente\n",
    "2. Indique en otra columna el valor respectivo de ganancia para cada amigo."
   ]
  },
  {
   "cell_type": "markdown",
   "id": "bb88c2b7-15f9-49d7-badf-3ae663075109",
   "metadata": {},
   "source": [
    "## Problema 2"
   ]
  },
  {
   "cell_type": "markdown",
   "id": "30c3d94b-7c54-4972-99d8-69ff069f66be",
   "metadata": {},
   "source": [
    "Un grupo de amigos (Daniel, Esteban, Fernanda y Ricardo) decidieron comprar una televisión entre todos por $2,400. Cada uno aportó una cantidad diferente:"
   ]
  },
  {
   "cell_type": "markdown",
   "id": "27801dc2-eb44-4e95-9b10-7b2cf5687a29",
   "metadata": {},
   "source": [
    "|   Persona    |   Aporte ($)  |\n",
    "|-------------|---------------|\n",
    "|   Daniel    |   500         |\n",
    "|   Esteban   |   700         |\n",
    "|   Fernanda  |   800         |\n",
    "|   Ricardo   |   400         |"
   ]
  },
  {
   "cell_type": "markdown",
   "id": "6a16b1f9-e5e7-4a77-abcc-5a92ed9dd6f3",
   "metadata": {},
   "source": [
    "Si en el futuro venden la televisión por $3,600, ¿qué parte del dinero debería recibir cada uno de acuerdo con su inversión inicial?\n",
    "- Halle los resultados en las columnas correspondientes."
   ]
  },
  {
   "cell_type": "markdown",
   "id": "b5ee93d7-9e78-4954-a9ea-d38436c86e66",
   "metadata": {},
   "source": [
    "## Problema 3"
   ]
  },
  {
   "cell_type": "markdown",
   "id": "ef8b47ea-1ab0-489a-8eec-7106afabe2b7",
   "metadata": {},
   "source": [
    "Un grupo de vecinos organizó una gran rifa comunitaria. En total, lograron reunir $24,000 gracias a la venta de boletos, con los siguientes aportes:"
   ]
  },
  {
   "attachments": {},
   "cell_type": "markdown",
   "id": "370965b1-9b3e-4bce-ab37-d984b22fecdf",
   "metadata": {},
   "source": [
    "|   Persona  |   Aporte ($)  |\n",
    "|------------|---------------|\n",
    "|   Samuel   |   6000        |\n",
    "|   Valeria  |   5000        |\n",
    "|   Ignacio  |   3000        |\n",
    "|   Norma    |   4000        |\n",
    "|   Pablo    |   6000        |"
   ]
  },
  {
   "cell_type": "markdown",
   "id": "3f9c293b-d2ca-45bd-8145-ab7d627ab3e1",
   "metadata": {},
   "source": [
    "El premio total es de $48,000, pero antes de repartirlo, decidieron donar el 15% del premio a una obra benéfica."
   ]
  },
  {
   "cell_type": "markdown",
   "id": "544a9305-0d72-4f01-ae6a-fdff17183593",
   "metadata": {},
   "source": [
    "En la hoja de cálculo responda:"
   ]
  },
  {
   "cell_type": "markdown",
   "id": "7bff4e30-2c03-4c46-9aff-eb38d2806eda",
   "metadata": {},
   "source": [
    "1. Cuanto queda del premio después de la donación?\n",
    "2. Cuanto dinero recibe cada uno después de la donación según su aporte?"
   ]
  },
  {
   "cell_type": "markdown",
   "id": "c44b16be-0f42-473f-bb42-958317ff0782",
   "metadata": {},
   "source": [
    "## Problema 4"
   ]
  },
  {
   "cell_type": "markdown",
   "id": "eb0189e6-68a9-431f-b37c-13492e7969ed",
   "metadata": {},
   "source": [
    "Andrea, Roberto, Sergio y Valentina decidieron ahorrar para un viaje de vacaciones a Europa. En total lograron reunir $15,000, distribuidos de la siguiente manera:"
   ]
  },
  {
   "cell_type": "markdown",
   "id": "e8a90a8f-e9a5-472a-b340-b7bca44ff93d",
   "metadata": {},
   "source": [
    "|   Persona    |   Aporte ($)  |\n",
    "|--------------|---------------|\n",
    "|   Andrea     |   5000        |\n",
    "|   Roberto    |   5500        |\n",
    "|   Sergio     |   3000        |\n",
    "|   Valentina  |   3500        |"
   ]
  },
  {
   "cell_type": "markdown",
   "id": "ebbccb8c-b079-4cb4-a3ab-fd0f7f8137d2",
   "metadata": {},
   "source": [
    "Después de pagar los vuelos, hospedaje y comidas, les quedó un saldo de $3,600. Sin embargo, acordaron que el 10% del saldo se destinaría a comprar recuerdos y souvenirs para todos en partes iguales (independientemente del aporte inicial)."
   ]
  },
  {
   "cell_type": "markdown",
   "id": "af26bca6-a574-49a0-81a3-cb51944799db",
   "metadata": {},
   "source": [
    "Calcule en la hoja de cálculo:\n",
    "1. Cuanto queda del saldo despues del porcentaje destinado a souvenirs?\n",
    "2. Cuanto le corresponde a cada uno despues de comprar los souvenir?"
   ]
  },
  {
   "cell_type": "markdown",
   "id": "1d9ef32a-5839-4836-ba37-f49309513771",
   "metadata": {},
   "source": []
  }
 ],
 "metadata": {
  "kernelspec": {
   "display_name": "Python 3 (ipykernel)",
   "language": "python",
   "name": "python3"
  },
  "language_info": {
   "codemirror_mode": {
    "name": "ipython",
    "version": 3
   },
   "file_extension": ".py",
   "mimetype": "text/x-python",
   "name": "python",
   "nbconvert_exporter": "python",
   "pygments_lexer": "ipython3",
   "version": "3.12.1"
  }
 },
 "nbformat": 4,
 "nbformat_minor": 5
}
