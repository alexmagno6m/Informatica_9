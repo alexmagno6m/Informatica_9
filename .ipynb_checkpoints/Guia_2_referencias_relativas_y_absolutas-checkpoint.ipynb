{
 "cells": [
  {
   "cell_type": "markdown",
   "id": "41e64162-1e1c-4cb2-8c14-41045506f7eb",
   "metadata": {},
   "source": [
    "# Fórmulas Personalizadas"
   ]
  },
  {
   "cell_type": "markdown",
   "id": "4c0f20b7-c5e4-41fa-940d-3a56a3311281",
   "metadata": {},
   "source": [
    "__Profesor: Alexander Acevedo Gomez__ \n",
    "\n",
    "__Grado__: Noveno\n",
    "\n",
    "__GUIA 2 Primer Periodo: Fórmulas Personalizadas__"
   ]
  },
  {
   "cell_type": "markdown",
   "id": "ded1d8f2-ef60-4f85-a16a-85403c759280",
   "metadata": {},
   "source": [
    "En muchos casos las funciones incorporadas en Excel no son suficientes para realizar operaciones sobre los datos, en esas circunstancias necesitamos crear formulas adaptadas a las condiciones del problema, que sean útiles para proveer una solución satisfactoria. Pero antes se requiere entender los conceptos de referencia relativa y absoluta."
   ]
  },
  {
   "cell_type": "markdown",
   "id": "d51983b4-d629-42e2-b693-078c20832ea2",
   "metadata": {},
   "source": [
    "## Referencias relativas"
   ]
  },
  {
   "cell_type": "markdown",
   "id": "1b4a6ead-54cd-429c-b8d1-49ccdda32e3d",
   "metadata": {},
   "source": [
    "Es aquella que cambia automáticamente cuando la fórmula se copia o arrastra a otra celda, adaptándose a la nueva posición. Es el tipo de referencia predeterminada en Excel y se identifica solo por la letra de la columna y el número de la fila (por ejemplo, ```A1```)."
   ]
  },
  {
   "cell_type": "markdown",
   "id": "48f69714-0f4b-45b0-aa2a-cffd5ddc287a",
   "metadata": {},
   "source": [
    "Supongamos que en la celda ```C1``` tiene la fórmula:"
   ]
  },
  {
   "cell_type": "markdown",
   "id": "2d2d6f19-a67a-468a-a282-af0001e96fba",
   "metadata": {},
   "source": [
    "```=A1+B1```"
   ]
  },
  {
   "cell_type": "markdown",
   "id": "aa759abf-f435-4521-9869-9cb342b04d2a",
   "metadata": {},
   "source": [
    "Si usted la arrastra hacia abajo en la celda ```C2```, la fórmula se ajustará automáticamente a:    "
   ]
  },
  {
   "cell_type": "markdown",
   "id": "6d6a1068-0f7c-409c-933e-112ca7e539f7",
   "metadata": {},
   "source": [
    "```=A2+B2```"
   ]
  },
  {
   "cell_type": "markdown",
   "id": "2d6ad569-2da4-4f6d-9d2c-1d650b7e6665",
   "metadata": {},
   "source": [
    "Las referencias relativas, se emplean para cálculos repetitivos como sumar valores en listas o multiplicar precios por cantidades."
   ]
  },
  {
   "cell_type": "markdown",
   "id": "4f3cb607-ed0d-4718-b736-b8ec36d5f100",
   "metadata": {},
   "source": [
    "## Referencias absolutas"
   ]
  },
  {
   "cell_type": "markdown",
   "id": "b210d15c-687e-45c6-9ebf-914a872e9203",
   "metadata": {},
   "source": [
    "Una referencia absoluta en Excel es aquella que permanece fija al copiar o arrastrar una fórmula, es decir, no se ajusta según la nueva posición de la celda. Se identifica utilizando el símbolo de pesos ($) antes de la letra de la columna y el número de la fila."
   ]
  },
  {
   "cell_type": "markdown",
   "id": "42219ce4-6a5e-410b-9e17-828a487f5ebe",
   "metadata": {},
   "source": [
    "Existen tres variaciones de una celda relativa:\n",
    "- ```$A$1``` → Fija columna y fila.\n",
    "- ```A$1``` → Fija solo la fila.\n",
    "- ```$A1``` → Fija solo la columna."
   ]
  },
  {
   "cell_type": "markdown",
   "id": "d0c3d9a8-a615-4bd4-9056-ce30d59a5a59",
   "metadata": {},
   "source": [
    "Se emplea cuando uno de los datos de la fórmula es constante, como un porcentaje, un impuesto o un tipo de cambio."
   ]
  },
  {
   "cell_type": "markdown",
   "id": "fbb8385b-fa2d-447c-98cf-ac1c5f9e0f4d",
   "metadata": {},
   "source": [
    "Si en la celda ```C1``` se escribe:"
   ]
  },
  {
   "cell_type": "markdown",
   "id": "947a580d-ce59-4cc6-9905-7a3a3e7ac9a4",
   "metadata": {},
   "source": [
    "```=A1*$B$1```"
   ]
  },
  {
   "cell_type": "markdown",
   "id": "01ad1f42-f7d7-4d11-b53a-d615c65637f4",
   "metadata": {},
   "source": [
    "- ```A1``` es relativa y cambiará si arrastras la fórmula a ```A2```, ```A3```, etc.\n",
    "- ```$B$1``` es absoluta y siempre tomará el valor de la celda ```B1```, sin importar dónde copies la fórmula."
   ]
  },
  {
   "cell_type": "markdown",
   "id": "4163609e-c0cd-48b0-8805-6d24ef891af0",
   "metadata": {},
   "source": [
    "## Ejemplo 1"
   ]
  },
  {
   "cell_type": "markdown",
   "id": "48371749-4c02-436c-bf67-272b3dbb62a7",
   "metadata": {},
   "source": [
    "Una tienda ofrece descuentos variables según el tipo de producto. Copie la siguiente tabla en la ```hoja1``` y responda:"
   ]
  },
  {
   "cell_type": "markdown",
   "id": "d8c5acd4-a5ad-4d29-b559-1aa01133b1d9",
   "metadata": {},
   "source": [
    "| Producto   | Precio Unitario | Cantidad | % Descuento | Precio Final |\n",
    "|------------|-----------------|----------|-------------|--------------|\n",
    "| Camiseta   | 25,00          | 3        | 10%         |              |\n",
    "| Pantalón   | 40,00          | 2        | 15%         |              |\n",
    "| Zapatillas | 60,00          | 1        | 20%         |              |\n",
    "| Chaqueta   | 80,00          | 1        | 5%          |              |"
   ]
  },
  {
   "cell_type": "markdown",
   "id": "c37ed210-4baf-47c5-bdc3-cabf1410bd5f",
   "metadata": {},
   "source": [
    "1.\tCalcular el precio final de cada producto considerando el descuento.\n",
    "2.\tUsar referencias relativas para aplicar la fórmula a cada producto.\n",
    "3.\tAgregar una celda con el IVA (19%) en otra sección y usa una referencia absoluta para aplicar el IVA al total.\n",
    "4.\tCalcular el Total a Pagar incluyendo el IVA."
   ]
  },
  {
   "attachments": {},
   "cell_type": "markdown",
   "id": "2ea02c41-b33e-4e11-a213-44c8c8a72a92",
   "metadata": {},
   "source": [
    "> ## Ejercicio 1\n",
    ">\n",
    "> Un grupo de estudiantes planea un viaje a varios países y necesita convertir su presupuesto a diferentes monedas según la tasa de cambio. Copie la tabla en la ```hoja2```."
   ]
  },
  {
   "cell_type": "markdown",
   "id": "790d8071-b8bd-40c9-b2f4-42489de9ca17",
   "metadata": {},
   "source": [
    "|   Pais            |   Moneda local   |   Presupuesto  |   Tasa de cambio  |\n",
    "|-------------------|------------------|----------------|-------------------|\n",
    "|   China           |   Yuan Renminbi  |   6385.13      |   71.62           |\n",
    "|   Croatia         |   Kuna           |   3358.75      |   16.1            |\n",
    "|   Indonesia       |   Rupiah         |   2600.0       |   56.49           |\n",
    "|   Philippines     |   Peso           |   3389.49      |   97.8            |\n",
    "|   Czech Republic  |   Koruna         |   8685.06      |   88.6            |\n",
    "|   China           |   Yuan Renminbi  |   4329.55      |   7.24            |\n",
    "|   United States   |   Dollar         |   6502.32      |   87.42           |\n",
    "|   United States   |   Dollar         |   6937.87      |   26.19           |\n",
    "|   Philippines     |   Peso           |   1237.68      |   39.97           |\n",
    "|   Philippines     |   Peso           |   6867.4       |   36.87           |\n",
    "|   Tanzania        |   Shilling       |   7577.61      |   48.21           |\n",
    "|   France          |   Euro           |   4734.72      |   93.06           |\n",
    "|   China           |   Yuan Renminbi  |   4676.94      |   70.7            |\n",
    "|   Philippines     |   Peso           |   4664.86      |   4.5             |\n",
    "|   Czech Republic  |   Koruna         |   6724.48      |   19.96           |\n",
    "|   China           |   Yuan Renminbi  |   7031.13      |   88.58           |\n",
    "|   Ukraine         |   Hryvnia        |   1585.92      |   33.94           |\n",
    "|   China           |   Yuan Renminbi  |   3223.08      |   11.53           |\n",
    "|   Croatia         |   Kuna           |   3726.33      |   47.22           |\n",
    "|   France          |   Euro           |   3330.21      |   38.31           |"
   ]
  },
  {
   "cell_type": "markdown",
   "id": "a06f2889-a47c-4d1c-8398-3d65199ec76e",
   "metadata": {},
   "source": [
    "> 1.\tCalcular el monto en moneda local multiplicando el presupuesto en USD por la tasa de cambio.\n",
    "> 2.\tAplicar referencias relativas para los presupuestos individuales.\n",
    "> 3.\tCalcular el total en moneda local sumando todos los valores."
   ]
  },
  {
   "cell_type": "markdown",
   "id": "7ee0569d-b36d-4572-b28f-ae16d6c960f1",
   "metadata": {},
   "source": [
    "## Ejemplo 2"
   ]
  },
  {
   "cell_type": "markdown",
   "id": "08a107f2-fcbb-49f9-9fea-cbf559763b47",
   "metadata": {},
   "source": [
    "Se registran las calificaciones de estudiantes en tres asignaturas y se necesita calcular el promedio ponderado, considerando que cada materia tiene un peso diferente. Copie la tabla en la ```hoja3```"
   ]
  },
  {
   "cell_type": "markdown",
   "id": "c7a4be94-4269-42e7-b980-9c1d15c46a1a",
   "metadata": {},
   "source": [
    "| Estudiante | Matemáticas (40%) | Ciencias (35%) | Historia (25%) | Promedio Ponderado |\n",
    "|------------|-------------------|----------------|----------------|--------------------|\n",
    "| Laura      | 85                | 90             | 88             |                    |\n",
    "| Pedro      | 78                | 84             | 80             |                    |\n",
    "| Mariana    | 92                | 88             | 91             |                    |\n",
    "| Daniel     | 75                | 82             | 79             |                    |"
   ]
  },
  {
   "cell_type": "markdown",
   "id": "242f9d6b-c6b2-4741-b23d-841e8d180dc9",
   "metadata": {},
   "source": [
    "1. Agregar una fila superior con los porcentajes ponderados de las asignatura.\n",
    "2.\tCalcular el promedio ponderado usando las ponderaciones de cada asignatura.\n",
    "3.\tUbicar los pesos en celdas separadas y aplicar referencias absolutas para que los valores no cambien al arrastrar la fórmula.\n",
    "4.\tEmplear referencias relativas para las calificaciones de cada estudiante.\n",
    "5.\tDeterminar el estudiante con el mayor promedio."
   ]
  },
  {
   "cell_type": "markdown",
   "id": "385ea973-ac21-4e9c-a231-8270b3ff59d2",
   "metadata": {},
   "source": [
    "> ## Ejercicio 2\n",
    ">\n",
    "> Una tienda ofrece a sus vendedores una comisión fija por cada producto vendido más un bono adicional. De la siguiente manera:\n",
    ">\n",
    "> - Pantalones: 2%\n",
    "> - Camisas: 5%\n",
    "> - Vestidos 10%\n",
    ">\n",
    "> Copie la siguiente tabla en la ```hoja4```:"
   ]
  },
  {
   "cell_type": "markdown",
   "id": "eeea7ae2-8bf7-4580-a7a2-1cc7a0a76c7b",
   "metadata": {},
   "source": [
    "| Vendedor  | Pantalones | Camisas | Vestidos |\n",
    "|-----------|------------|---------|----------|\n",
    "| Tobe      | 34         | 86      | 51       |\n",
    "| Clarance  | 33         | 22      | 41       |\n",
    "| Lorilee   | 27         | 73      | 26       |\n",
    "| Kile      | 4          | 100     | 78       |\n",
    "| Arni      | 99         | 47      | 77       |\n",
    "| Selig     | 17         | 32      | 11       |\n",
    "| Vinny     | 24         | 93      | 34       |\n",
    "| Rad       | 34         | 86      | 89       |\n",
    "| Jerry     | 91         | 2       | 20       |\n",
    "| North     | 6          | 55      | 42       |\n",
    "| Roldan    | 38         | 51      | 53       |\n",
    "| Cecilio   | 52         | 31      | 64       |\n",
    "| Derrek    | 9          | 1       | 79       |\n",
    "| Bartel    | 98         | 21      | 83       |\n",
    "| Clemens   | 64         | 11      | 38       |\n",
    "| Gerri     | 64         | 88      | 12       |\n",
    "| Mendy     | 19         | 23      | 72       |\n",
    "| Sharla    | 18         | 99      | 83       |\n",
    "| Perren    | 99         | 51      | 47       |\n",
    "| Stanislas | 45         | 90      | 60       |"
   ]
  },
  {
   "cell_type": "markdown",
   "id": "90e658ba-1288-4c0b-81c8-fc44b11a45e8",
   "metadata": {},
   "source": [
    "> 1. Agregue una fila con los porcentajes de la comisión\n",
    "> 2. Calcule la comision total de cada trabajador"
   ]
  },
  {
   "cell_type": "markdown",
   "id": "7cb5a873-9b53-4649-bfe2-fff3b026ddab",
   "metadata": {},
   "source": [
    "## Obtención del sello"
   ]
  },
  {
   "cell_type": "markdown",
   "id": "4f6759d1-6ae2-4bbf-8ca8-6a755b063783",
   "metadata": {},
   "source": [
    "Escriba en su cuaderno lo siguiente para obtener el sello con su puntuación:\n",
    "\n",
    "__Nombre de la actividad__: Empleo de referencias absolutas y relativas en formulas personalizadas\n",
    "\n",
    "__Ambito conceptual__: Creación de funciones personalizadas, sintácticamente correctas para proponer una solución efectiva a problemas cotidianos propuestos.\n",
    "\n",
    "__Competencia__: 2\n",
    "\n",
    "__Obtetivo__: Emplear con acierto las referencias absolutas y relativas en celdas dentro de formulas personalizadas para resolver un problema propuesto."
   ]
  }
 ],
 "metadata": {
  "kernelspec": {
   "display_name": "Python 3 (ipykernel)",
   "language": "python",
   "name": "python3"
  },
  "language_info": {
   "codemirror_mode": {
    "name": "ipython",
    "version": 3
   },
   "file_extension": ".py",
   "mimetype": "text/x-python",
   "name": "python",
   "nbconvert_exporter": "python",
   "pygments_lexer": "ipython3",
   "version": "3.12.1"
  }
 },
 "nbformat": 4,
 "nbformat_minor": 5
}
