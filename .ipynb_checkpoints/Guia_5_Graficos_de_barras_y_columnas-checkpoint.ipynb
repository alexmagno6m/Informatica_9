{
 "cells": [
  {
   "cell_type": "markdown",
   "id": "25fa0abe-9e74-45e2-adee-916e4bad4f2e",
   "metadata": {},
   "source": [
    "- __Diseñada por__: Alexander Acevedo Gómez\n",
    "- Docente de Informática y Programación\n",
    "- Ingeniero de sistemas\n",
    "- Magister en Modelado y Simulación por computador"
   ]
  },
  {
   "cell_type": "markdown",
   "id": "d1c859c0-ce38-41bf-aada-a408941c5b14",
   "metadata": {},
   "source": [
    "# Guia 5 - Empleo de gráficos según los datos"
   ]
  },
  {
   "cell_type": "markdown",
   "id": "fa5cea96-74d6-40ee-a22c-3e997ba7d039",
   "metadata": {},
   "source": [
    "Existen varios tipos de gráficos en Excel, separados por cateogorías, las tablas de datos pueden ser representadas por diferentes cateogorías, sin embargo, algunas son mas apropiadas respecto a otras, a continuación enunciaremos, cual categoría se adapta mejor según las características de los datos."
   ]
  },
  {
   "cell_type": "markdown",
   "id": "9ae38add-6764-40da-a08d-48857f7ec65e",
   "metadata": {},
   "source": [
    "1. Gráficos de Columnas y Barras\n",
    "\t-\tAdecuado para: Comparaciones entre diferentes categorías.\n",
    "\t-\tEjemplo de datos: Ventas de productos por trimestre, cantidad de alumnos en distintas clases.\n",
    "\t-\tDiferencia:\n",
    "\t-\tColumnas (verticales) son mejores para mostrar tendencias.\n",
    "\t-\tBarras (horizontales) son útiles cuando hay muchas categorías o nombres largos.\n",
    "2. Gráficos de Líneas\n",
    "\t-\tAdecuado para: Mostrar tendencias o evolución en el tiempo.\n",
    "\t-\tEjemplo de datos: Temperaturas mensuales, crecimiento de ingresos anuales.\n",
    "\t-\tVentaja: Permiten ver patrones de cambio con claridad.\n",
    "3. Gráficos de Circular (Pastel o Pie Chart)\n",
    "\t-\tAdecuado para: Representar proporciones o porcentajes de un total.\n",
    "\t-\tEjemplo de datos: Distribución del presupuesto, porcentaje de participación en una encuesta.\n",
    "\t-\tRecomendación: No usar más de 5 categorías para evitar confusión.\n",
    "4. Gráficos de Áreas\n",
    "\t-\tAdecuado para: Mostrar tendencias en valores acumulados.\n",
    "\t-\tEjemplo de datos: Evolución de la población en varias ciudades, ingresos acumulados en varios años.\n",
    "\t-\tDiferencia con el gráfico de líneas: Destaca la magnitud total con áreas sombreadas.\n",
    "5. Gráficos de Dispersión (XY)\n",
    "\t-\tAdecuado para: Relacionar dos variables numéricas.\n",
    "\t-\tEjemplo de datos: Relación entre altura y peso, relación entre publicidad y ventas.\n",
    "\t-\tÚtil para: Identificar correlaciones o patrones.\n",
    "6. Gráficos de Radar\n",
    "\t-\tAdecuado para: Comparar múltiples variables en varias categorías.\n",
    "\t-\tEjemplo de datos: Evaluación de desempeño de empleados en diferentes habilidades.\n",
    "\t-\tVentaja: Visualiza fortalezas y debilidades en varias dimensiones.\n",
    "7. Gráficos de Histogramas y Pareto\n",
    "\t-\tAdecuado para: Análisis de frecuencia de datos.\n",
    "\t-\tEjemplo de datos: Distribución de calificaciones en un examen.\n",
    "\t-\tEl gráfico de Pareto se usa para mostrar el principio de Pareto (80/20), donde pocos factores tienen mayor impacto.\n",
    "8. Gráficos de Caja y Bigotes\n",
    "\t-\tAdecuado para: Análisis estadístico de datos.\n",
    "\t-\tEjemplo de datos: Distribución de sueldos en una empresa, valores atípicos en mediciones científicas.\n",
    "\t-\tVentaja: Muestra medianas, cuartiles y valores atípicos de forma clara."
   ]
  },
  {
   "cell_type": "markdown",
   "id": "9cf31808-be28-471f-8dfd-fb04b3b7509d",
   "metadata": {},
   "source": [
    "# Ejemplos y Ejercicios"
   ]
  },
  {
   "cell_type": "markdown",
   "id": "c6cfeea3-4fd5-42bb-9bb2-7a22e48c4736",
   "metadata": {},
   "source": [
    "## Gráficos de Columnas y Barras"
   ]
  },
  {
   "cell_type": "markdown",
   "id": "a435c395-4383-43df-8d2a-2dc2c24654dc",
   "metadata": {},
   "source": [
    "1. Copie la siguiente tabla en la Hoja 1 de Excel"
   ]
  },
  {
   "cell_type": "markdown",
   "id": "1f6609d0-08ee-457a-9873-d5571ddafce2",
   "metadata": {},
   "source": [
    "| Meses      | Compras | Ventas |\n",
    "|------------|---------|--------|\n",
    "| enero      | 339266  | 124737 |\n",
    "| febrero    | 346245  | 54998  |\n",
    "| marzo      | 426385  | 59870  |\n",
    "| abril      | 477834  | 385332 |\n",
    "| mayo       | 336800  | 263433 |\n",
    "| junio      | 109916  | 337200 |\n",
    "| julio      | 300129  | 411496 |\n",
    "| agosto     | 59098   | 473112 |\n",
    "| septiembre | 119691  | 139430 |\n",
    "| octubre    | 469988  | 462791 |\n",
    "| noviembre  | 497277  | 113807 |\n",
    "| diciembre  | 233649  | 479135 |"
   ]
  },
  {
   "cell_type": "markdown",
   "id": "708bcd5f-f190-4b3a-8008-65e9211122f8",
   "metadata": {},
   "source": [
    "2. Agregue un gráfico de columnas\n",
    "3. Aplique modificaciones al diseño como lo indica el profesor\n",
    "4. Identifique el mex con msa compras y el de mas ventas"
   ]
  },
  {
   "cell_type": "markdown",
   "id": "5fcc1683-800b-42dc-84f9-7874e3c78434",
   "metadata": {},
   "source": [
    "> Este tipo de grafico se debe emplear cuando se comparan categorias, como en este caso, compra vs ventas. Otros ejemplos: Notas por periodo, Ingresos vs gastos, Hombres vs Mujeres."
   ]
  },
  {
   "cell_type": "markdown",
   "id": "09313f08-83a3-417f-aa8f-dd1d10c8a0dd",
   "metadata": {},
   "source": [
    "### Ejercicio 1 - Columnas y Barras"
   ]
  },
  {
   "cell_type": "markdown",
   "id": "cea7932d-7896-46bd-a660-e1d6c9b9cbde",
   "metadata": {},
   "source": [
    "> Los datos describen las notas de estudiantes de grado Octavo en un colegio Inglés"
   ]
  },
  {
   "cell_type": "markdown",
   "id": "db4cc56c-81e7-4446-bb8d-8f6520603814",
   "metadata": {},
   "source": [
    "> 1. Copie la siguiente tabla"
   ]
  },
  {
   "cell_type": "markdown",
   "id": "4b1d1fab-c958-41c2-af12-ab2be81487eb",
   "metadata": {},
   "source": [
    "| Nombre    | Periodo 1 | Periodo 2 | Periodo 3 | Periodo 4 |\n",
    "|-----------|-----------|-----------|-----------|-----------|\n",
    "| Emmit     | 30        | 46        | 36        | 41        |\n",
    "| Tobin     | 10        | 48        | 20        | 18        |\n",
    "| Barnett   | 41        | 33        | 11        | 25        |\n",
    "| Edouard   | 24        | 27        | 49        | 13        |\n",
    "| Cleve     | 24        | 47        | 39        | 37        |\n",
    "| Boote     | 46        | 37        | 26        | 35        |\n",
    "| Henderson | 39        | 42        | 40        | 39        |\n",
    "| Lazaro    | 36        | 38        | 34        | 36        |\n",
    "| D'arcy    | 14        | 47        | 26        | 18        |\n",
    "| Job       | 47        | 15        | 23        | 17        |\n",
    "| Marco     | 32        | 18        | 45        | 25        |\n",
    "| Efren     | 17        | 10        | 44        | 42        |\n",
    "| Rinaldo   | 23        | 45        | 34        | 24        |\n",
    "| Aguistin  | 39        | 24        | 23        | 22        |\n",
    "| Austin    | 11        | 19        | 20        | 49        |"
   ]
  },
  {
   "cell_type": "markdown",
   "id": "e9a393c5-f495-4746-a82c-21467889d7dd",
   "metadata": {},
   "source": [
    "> 2. Convierta los datos en tabla\n",
    "> 3. Agregue el grafico de columna\n",
    "> 4. Identifique quien obtuvo la mejor nota cada periodo.\n",
    "> 5. Aplique colores y diseño al gráfico"
   ]
  },
  {
   "cell_type": "markdown",
   "id": "e181fec0-0586-4955-80da-2d38d55c4331",
   "metadata": {},
   "source": [
    "### Ejercicio 2 - Columnas y Barras"
   ]
  },
  {
   "cell_type": "markdown",
   "id": "6b9eb1cf-8724-4192-960b-7d2fab042c4b",
   "metadata": {},
   "source": [
    "> La siguiente tabla muestra la cantidad de hombres y mujeres en el barrio Olaya durante varios años.\n",
    ">\n",
    "> 1. Copie la tabla"
   ]
  },
  {
   "cell_type": "markdown",
   "id": "06f40acf-65c2-44b4-984f-c5813f160680",
   "metadata": {},
   "source": [
    "| Año  | Hombres | Mujeres |\n",
    "|------|---------|---------|\n",
    "| 2001 | 6418    | 4646    |\n",
    "| 2003 | 4662    | 7068    |\n",
    "| 2005 | 1539    | 8550    |\n",
    "| 2007 | 7217    | 3815    |\n",
    "| 2009 | 2846    | 1928    |\n",
    "| 2011 | 1749    | 3622    |\n",
    "| 2013 | 4636    | 787     |\n",
    "| 2015 | 6093    | 2578    |\n",
    "| 2017 | 3239    | 3001    |\n",
    "| 2019 | 5927    | 7592    |\n",
    "| 2020 | 4399    | 5088    |\n",
    "| 2021 | 9734    | 1208    |\n",
    "| 2022 | 1769    | 9253    |\n",
    "| 2023 | 4340    | 4620    |"
   ]
  },
  {
   "cell_type": "markdown",
   "id": "cd60a096-55f1-4058-93b0-beac23fe2a3e",
   "metadata": {},
   "source": [
    "> 2. Convierta los datos en tabla\n",
    "> 3. Agregue el gráfico de columna\n",
    "> 4. Identifique en que año hubo mas hombres y en cual más mujeres\n",
    "> 5. Aplique diseño al gráfico"
   ]
  },
  {
   "cell_type": "markdown",
   "id": "8d98ebf8-5301-4c67-a443-ea74e8b761eb",
   "metadata": {},
   "source": []
  }
 ],
 "metadata": {
  "kernelspec": {
   "display_name": "Python 3 (ipykernel)",
   "language": "python",
   "name": "python3"
  },
  "language_info": {
   "codemirror_mode": {
    "name": "ipython",
    "version": 3
   },
   "file_extension": ".py",
   "mimetype": "text/x-python",
   "name": "python",
   "nbconvert_exporter": "python",
   "pygments_lexer": "ipython3",
   "version": "3.12.1"
  }
 },
 "nbformat": 4,
 "nbformat_minor": 5
}
