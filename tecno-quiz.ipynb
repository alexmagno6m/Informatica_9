{
 "cells": [
  {
   "cell_type": "markdown",
   "id": "1f5456d2-3bc6-41c3-bff2-0c5859919264",
   "metadata": {},
   "source": [
    "# Quiz de competencias"
   ]
  },
  {
   "cell_type": "markdown",
   "id": "f3242290-4b56-4c11-89f9-6396a7c38a7d",
   "metadata": {},
   "source": [
    "## Aprendizaje de Excel"
   ]
  },
  {
   "cell_type": "markdown",
   "id": "b22dec13-3434-4ecf-a53b-4763d42fac98",
   "metadata": {},
   "source": [
    "Vamos a conocer que tanto has aprendido de Excel, la idea es competir, a veces la suerte tambien cuenta!. Entre mas rapido contestes y aciertes mas puntos por pregunta obtienes"
   ]
  },
  {
   "cell_type": "markdown",
   "id": "2bac6cb5-2edb-447f-b938-e2478d4d41a8",
   "metadata": {},
   "source": [
    "# Quiz competitivo 1"
   ]
  },
  {
   "cell_type": "markdown",
   "id": "a5deecc9-41b4-4d4e-9749-ca5be99129fa",
   "metadata": {},
   "source": [
    "Emplearemos la plataforma __Mentimeter__ para responder una serie de preguntas."
   ]
  },
  {
   "cell_type": "markdown",
   "id": "3dc9f1ee-6a26-4ca9-821f-c89581011a0e",
   "metadata": {},
   "source": [
    "> ### Instrucciones\n",
    ">\n",
    "> - La competencia consta de varias preguntas de opción multiple con una sola respuesta correcta.\n",
    "> - Las preguntas tienen un tiempo máximo para que respondas, usualmente 7 u 8 segundos, si respondes fuera del tiempo, tu respuesta no será tenida en cuenta :(\n",
    "> - Ganarás mas puntos si respondes correctamente y lo haces en menos tiempo que los demás.\n",
    "> - Los primeros cinco lugares obtendrán 5 puntos, los siguientes cinco 4, los otros cinco 3 y asi sucesivamente."
   ]
  },
  {
   "cell_type": "markdown",
   "id": "fb342b0e-dfcb-4c27-8a2e-ba3e8be0d01b",
   "metadata": {},
   "source": [
    "> ### Ingresa al Quiz!\n",
    ">\n",
    "> 1. Ingresa a la página: [mentimeter.com](https://www.mentimeter.com/es-ES)\n",
    "> 2. Digita el codigo ```7165 9483```\n",
    "> 3. Tambien puedes ingresar directamente a este link: [Link a quiz](https://www.menti.com/al1ti3gkq64m).\n",
    "> 4. Escribe tu nombre y apellido, no emplees apodos o disminutivos porque tu puntuación no será tenida en cuenta."
   ]
  },
  {
   "cell_type": "markdown",
   "id": "dbefe8a8-2564-4cd9-bdaa-751bb82ffe89",
   "metadata": {},
   "source": [
    "## Obtención del sello con la puntuación"
   ]
  },
  {
   "cell_type": "markdown",
   "id": "d5bd6a11-feda-4a09-bb54-7771043c87c9",
   "metadata": {},
   "source": [
    "> - __Tecno Quiz 1__\n",
    "> - __Ámbito conceptual__: Creación de funciones personalizadas para la solución de problemas.\n",
    "> - __Competencia cognitiva__: 2\n",
    "> - __Objetivo__: Apropiar los conceptos relacionados con la sintaxis de formulas de usuario, tipos de referencias y  conversion a tablas trabajados hasta el momento en el periodo."
   ]
  }
 ],
 "metadata": {
  "kernelspec": {
   "display_name": "Python 3 (ipykernel)",
   "language": "python",
   "name": "python3"
  },
  "language_info": {
   "codemirror_mode": {
    "name": "ipython",
    "version": 3
   },
   "file_extension": ".py",
   "mimetype": "text/x-python",
   "name": "python",
   "nbconvert_exporter": "python",
   "pygments_lexer": "ipython3",
   "version": "3.12.1"
  }
 },
 "nbformat": 4,
 "nbformat_minor": 5
}
