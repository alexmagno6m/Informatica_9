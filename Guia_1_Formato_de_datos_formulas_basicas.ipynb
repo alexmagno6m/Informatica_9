{
 "cells": [
  {
   "cell_type": "markdown",
   "id": "883c3fb9-7b3c-4a4e-8aa4-b6b17ced71c0",
   "metadata": {},
   "source": [
    "__Profesor: Alexander Acevedo Gomez__ \n",
    "\n",
    "__Grado__: Noveno\n",
    "\n",
    "__GUIA 1 Primer Periodo: Formato de números y formulas personalizadas básicas__"
   ]
  },
  {
   "cell_type": "markdown",
   "id": "a41ed1d6-f092-41ee-907b-901831abfe71",
   "metadata": {},
   "source": [
    "# Formatos de números"
   ]
  },
  {
   "cell_type": "markdown",
   "id": "ed87bbf6-d97b-4398-a756-1deb3cc3fca3",
   "metadata": {},
   "source": [
    "1. General: Es el formato predeterminado en Excel. No tiene un estilo específico y muestra los números tal como se ingresan, redondeando los decimales cuando es necesario.\n",
    "2.\tNúmero: Permite definir la cantidad de decimales, usar separadores de miles y mostrar números negativos en rojo o con paréntesis.\n",
    "3.\tMoneda: Similar al formato “Número”, pero incluye un símbolo de moneda (como $, €, etc.), manteniendo los valores alineados correctamente.\n",
    "4.\tContabilidad: También muestra símbolos de moneda, pero alinea los valores y los separadores de manera uniforme, útil para reportes financieros.\n",
    "5.\tFecha y Hora: Convierte los números en fechas o tiempos según el formato seleccionado, como “dd/mm/aaaa” o “hh:mm AM/PM”.\n",
    "6.\tPorcentaje: Multiplica el valor por 100 y añade el símbolo “%”, ideal para representar proporciones o tasas.\n",
    "7.\tFracción: Muestra los números como fracciones en lugar de decimales, útil para mediciones y cálculos específicos.\n",
    "8.\tCientífico: Expresa los números en notación exponencial, facilitando la visualización de cifras muy grandes o muy pequeñas.\n",
    "9.\tTexto: Trata los números como texto, evitando cálculos automáticos y manteniendo el formato exacto de lo ingresado.\n",
    "10.\tEspecial: Formatos específicos como números de teléfono, códigos postales o identificaciones, dependiendo de la configuración regional."
   ]
  },
  {
   "cell_type": "markdown",
   "id": "bdf5976e-f378-4ba1-b392-a9dfbb794416",
   "metadata": {},
   "source": []
  },
  {
   "cell_type": "markdown",
   "id": "f2e6befa-ae65-481d-8b2e-65436634ef78",
   "metadata": {},
   "source": [
    "## Importancia de usar correctamente los formatos de números"
   ]
  },
  {
   "cell_type": "markdown",
   "id": "220a63bd-4423-4f3b-9bef-02b0de02f3d2",
   "metadata": {},
   "source": [
    "> 1. Claridad en los datos: Un formato adecuado mejora la comprensión de la información, evitando confusiones entre valores como fechas, monedas o porcentajes.\n",
    "> 2. Precisión en cálculos: Al aplicar un formato incorrecto, los cálculos pueden dar resultados erróneos o no reflejar correctamente los valores esperados.\n",
    "> 3. Presentación profesional: Un buen uso del formato mejora la presentación de reportes y hojas de cálculo, facilitando la interpretación de la información por parte de otras personas."
   ]
  },
  {
   "cell_type": "markdown",
   "id": "e809c283-82a8-40ca-bae5-8325c3390717",
   "metadata": {},
   "source": [
    "## Ejemplo"
   ]
  },
  {
   "cell_type": "markdown",
   "id": "48a9c150-b100-4ec9-853c-a76661090ab5",
   "metadata": {},
   "source": [
    "Los siguientes datos corresponden a los socios inversores de una empresa multinacional con sede en Londres Inglaterra, muestra el estado de sus ahorros o deudas contados hasta determinada fecha."
   ]
  },
  {
   "cell_type": "markdown",
   "id": "c1889621-d5d3-4855-bdb5-0e1f4b158c7d",
   "metadata": {},
   "source": [
    "|   first_name  |   last_name  |   date        |   money          |   income       |   expense      |\n",
    "|---------------|--------------|---------------|------------------|----------------|----------------|\n",
    "|   Lilith      |   Barfoot    |   30/4/2024   |   Peso           |   47570.2481   |   92345.70639  |\n",
    "|   Glynda      |   Patemore   |   5/5/2024    |   Peso           |   12463.75302  |   28418.51984  |\n",
    "|   Alric       |   Floyed     |   27/6/2024   |   Dollar         |   37812.56071  |   14993.08086  |\n",
    "|   Camellia    |   Pennino    |   27/1/2025   |   Yuan Renminbi  |   45926.48601  |   78417.508    |\n",
    "|   Ciro        |   Minard     |   27/12/2024  |   Dollar         |   97238.89965  |   12088.44043  |\n",
    "|   Rustin      |   Witherup   |   28/5/2024   |   Yuan Renminbi  |   88053.46925  |   29944.74719  |\n",
    "|   Rebekah     |   O'Moylan   |   13/12/2024  |   Rupiah         |   39092.50247  |   79982.75006  |\n",
    "|   Kalvin      |   Fellini    |   14/3/2024   |   Rupiah         |   67308.90387  |   84715.80824  |\n",
    "|   Bunnie      |   Feechum    |   11/1/2025   |   Euro           |   10920.47774  |   76009.07594  |\n",
    "|   Cayla       |   Burges     |   18/4/2024   |   Euro           |   55061.6065   |   35702.91078  |\n",
    "|   Zorah       |   Fern       |   10/8/2024   |   Peso           |   92355.54649  |   30834.0649   |\n",
    "|   Carey       |   Bearblock  |   25/4/2024   |   Franc          |   29423.59302  |   17337.57711  |\n",
    "|   Goran       |   Cecchi     |   5/6/2024    |   Boliviano      |   78102.45962  |   94208.34022  |\n",
    "|   Ermanno     |   Crose      |   25/5/2024   |   Zloty          |   61310.04389  |   97462.14854  |\n",
    "|   Meredith    |   Colmore    |   10/7/2024   |   Zloty          |   14758.09804  |   61865.04968  |\n",
    "|   Rachelle    |   Santo      |   5/10/2024   |   Yuan Renminbi  |   38120.57496  |   74703.97818  |\n",
    "|   Shelia      |   Hynam      |   4/4/2024    |   Peso           |   37812.24633  |   76296.16923  |\n",
    "|   Nessy       |   Raftery    |   8/1/2025    |   Yuan Renminbi  |   57697.72552  |   43624.86247  |\n",
    "|   Wanda       |   Hawlgarth  |   2/2/2025    |   Bolivar        |   25891.77015  |   37888.88372  |\n",
    "|   Deina       |   Conn       |   14/5/2024   |   Dong           |   65305.64039  |   82530.05281  |\n",
    "|   Godart      |   Tincknell  |   28/12/2024  |   Ruble          |   83162.84384  |   90097.9068   |\n",
    "|   Anallise    |   Cator      |   14/1/2025   |   Dollar         |   28774.37665  |   40448.03327  |\n",
    "|   Florie      |   Loughney   |   30/8/2024   |   Yen            |   18888.70469  |   49269.46103  |\n",
    "|   Mercie      |   Alden      |   29/8/2024   |   Peso           |   33570.47411  |   95719.23132  |\n",
    "|   Phip        |   Dew        |   10/6/2024   |   Yuan Renminbi  |   37130.247    |   96336.94675  |\n",
    "|   Irena       |   Tolomelli  |   15/11/2024  |   Dollar         |   62467.89029  |   27076.391    |\n",
    "|   Candra      |   Lissandri  |   3/3/2024    |   Zloty          |   45810.79595  |   28924.54938  |\n",
    "|   Hector      |   Hartle     |   13/12/2024  |   Krona          |   44107.05726  |   75913.67885  |\n",
    "|   Shalne      |   Loffill    |   16/9/2024   |   Dollar         |   60916.44968  |   26928.61952  |\n",
    "|   Eolande     |   Nester     |   18/8/2024   |   Real           |   74364.65783  |   79768.08293  |"
   ]
  },
  {
   "cell_type": "markdown",
   "id": "eb0ad299-2d3f-42ed-aa3f-822322bfa5b6",
   "metadata": {},
   "source": [
    "> ### Descripción de las columnas\n",
    ">\n",
    "> __first_name__ y __last_name__: Corresponde al nombre y apellido.\n",
    "> \n",
    "> __income__ y __expense__ : Son los ingresos y gastos de los socios contados hasta la fecha indicada en la columna __date__."
   ]
  },
  {
   "cell_type": "markdown",
   "id": "c4859c18-8655-486e-878d-5a4507089e98",
   "metadata": {},
   "source": [
    "> 1. Copie en Excel la siguiente tabla según las instrucciones del profesor.\n",
    "> 2. Reemplace puntos por comas.\n",
    "> 3. Cambiar la columna ```date``` al formato ```año-mes-dia```.\n",
    "> 4. Ajuste las cantidades a dos decimales.\n",
    "> 5. Convierte los datos a tabla.\n",
    "> 6. Agregue la columna ```balance```.\n",
    "> 7. En esta columna calcule el saldo de cada persona el cual corresponde a $income-expense$.\n",
    "> 8. Agregue una fila de totales asi:\n",
    ">    - En las columnas ```money``` e ```income``` emplee __suma__\n",
    ">    - En la columna ```balance``` emplee __promedio__.\n",
    "> 9. Convierta la columna ```balance``` a moneda con el simbolo pesos ```$``` y dos posiciones decimales."
   ]
  },
  {
   "cell_type": "markdown",
   "id": "6ded8017-5b3c-4550-bb6d-26b41a705fb3",
   "metadata": {},
   "source": [
    "## Ejercicio"
   ]
  },
  {
   "cell_type": "markdown",
   "id": "a37350e1-0ada-49ff-a317-0ab0ded88ff9",
   "metadata": {},
   "source": [
    "> __Ambito Conceptual:__ Tipos de datos y su   manipulación en la hoja de cálculo.\n",
    ">\n",
    "> __Competencia:__ 1\n",
    ">\n",
    "> __Objetivo:__ Emplear adecuadamente los formatos de numeros proporcionados en Excel para aplicarlos correctamente en las columnas segun el tipo de dato enunciado."
   ]
  },
  {
   "cell_type": "markdown",
   "id": "4a9fdbbd-fed5-4dc6-b8a3-b57040f88d45",
   "metadata": {},
   "source": [
    "La siguiente tabla muestra la marca de vehículos más vendido en diferentes ciudades del mundo, el precio promedio en dólares del modelo más común perteneciente a estas marcas y las ventas estimadas a una fecha en particular."
   ]
  },
  {
   "cell_type": "markdown",
   "id": "ce2c6a9c-68f6-4cf2-95bb-f113b9da4ed4",
   "metadata": {},
   "source": [
    "|   Ciudad              |   Vehículo       |   fecha       |   precio_promedio  |   cantidad_vendida  |   ventas_estimadas  |\n",
    "|-----------------------|------------------|---------------|--------------------|---------------------|---------------------|\n",
    "|   Lianyi              |   Sierra 2500    |   22/2/2024   |   239289.547       |   5062              |   3941              |\n",
    "|   Navegantes          |   A4             |   16/11/2024  |   58057.7425       |   11919             |   7495              |\n",
    "|   Balungao            |   LR2            |   17/9/2024   |   341671.4925      |   8397              |   5135              |\n",
    "|   Bahía Blanca        |   Concorde       |   8/9/2023    |   305607.7975      |   5471              |   5572              |\n",
    "|   Bukhovo             |   Mazda3         |   25/10/2022  |   334595.2781      |   3856              |   6130              |\n",
    "|   Jinkou              |   Malibu         |   18/11/2024  |   222439.6587      |   6570              |   8243              |\n",
    "|   Pont-à-Mousson      |   SL-Class       |   16/3/2024   |   121129.396       |   1417              |   3635              |\n",
    "|   Era                 |   Avalanche      |   15/4/2023   |   271360.3311      |   3753              |   11050             |\n",
    "|   Landskrona          |   B-Series Plus  |   26/4/2023   |   246307.0427      |   10241             |   1515              |\n",
    "|   Józefów             |   Bonneville     |   9/1/2023    |   322867.6738      |   11820             |   11433             |\n",
    "|   Harjamukti          |   Mirage         |   14/8/2023   |   93634.4424       |   11591             |   8636              |\n",
    "|   Lac du Bonnet       |   A6             |   1/1/2024    |   31742.5422       |   2151              |   1437              |\n",
    "|   Tonggu              |   Forester       |   5/1/2025    |   336666.761       |   9594              |   2406              |\n",
    "|   Badai               |   Arnage         |   3/2/2024    |   88798.4879       |   10101             |   2483              |\n",
    "|   Pasirhuni           |   Express 2500   |   17/3/2024   |   136631.3272      |   4467              |   7819              |\n",
    "|   Youxikou            |   M6             |   8/1/2023    |   298253.7001      |   5750              |   9302              |\n",
    "|   Heshengbao          |   Wrangler       |   10/2/2023   |   134950.9517      |   3144              |   7062              |\n",
    "|   Sokol               |   FX             |   27/8/2023   |   85374.9541       |   11668             |   5642              |\n",
    "|   Batangan            |   650            |   9/5/2023    |   24402.607        |   6537              |   10683             |\n",
    "|   Batou               |   C70            |   27/10/2023  |   326425.6798      |   5770              |   3063              |\n",
    "|   Västerås            |   Virage         |   7/10/2024   |   346193.4086      |   2157              |   7151              |\n",
    "|   Rebe                |   Trans Sport    |   26/9/2023   |   227502.3012      |   7634              |   8665              |\n",
    "|   Mingshui            |   D350 Club      |   14/4/2023   |   158260.6313      |   6042              |   7100              |\n",
    "|   Pulau Pinang        |   Tahoe          |   10/6/2023   |   27125.5714       |   10612             |   4137              |\n",
    "|   Logon               |   Rio5           |   2/2/2023    |   75056.3917       |   9117              |   6522              |\n",
    "|   Padang              |   370Z           |   17/10/2024  |   254953.0589      |   3683              |   3766              |\n",
    "|   Pejek               |   E-Class        |   26/5/2023   |   234267.5121      |   4139              |   10482             |\n",
    "|   Tsementnozavodskiy  |   C-Class        |   7/4/2023    |   288783.323       |   6554              |   7659              |\n",
    "|   Canhestros          |   Passat         |   12/7/2024   |   15461.0653       |   8903              |   10761             |\n",
    "|   Kalkal Barat        |   Accord         |   15/2/2024   |   106361.8866      |   4016              |   5738              |"
   ]
  },
  {
   "cell_type": "markdown",
   "id": "88ef80e5-1c2e-4cd1-9eca-cd36a2d25a64",
   "metadata": {},
   "source": [
    "### Desarrolle"
   ]
  },
  {
   "cell_type": "markdown",
   "id": "33729415-e032-42c1-8cc6-b9d00bada8ee",
   "metadata": {},
   "source": [
    "1. Copie la tabla y péguela en Excel según lo visto en clase.\n",
    "2. Cambie de puntos a comas.\n",
    "3. Convierta los datos a tabla.\n",
    "4. Agregue la columna ```ingresos_totales```, la cual corresponde a:\n",
    "   \n",
    "   $$preciopromedio \\phantom{x} x \\phantom{x} cantidadvendida$$\n",
    "\n",
    "6. Agregue la columna ```diferencia en ventas```, la cual corresponde a $cantidadVendida-ventasEstimadas$\n",
    "7. Reduzca los decimales a dos cifras unicamente en la columnas que los tienen.\n",
    "8. Cambie la fecha al formato ```14 de marzo de 2012```\n",
    "9. Aplique el formato de moneda a las columnas ```precio_promedio``` e ```ingresos_totales```.\n",
    "10. Agregue la fila de totales asi:\n",
    "   - Promedio: en las columna ```precio_promedio```\n",
    "   - Suma: en las columnas ```cantidad_vendida``` y ```ventas_estimadas```.\n",
    "11. Guarde su trabajo como: ```guia1_903_nombre_apellido```, por ejemplo: ```guia1_903_Pablo_Perez```."
   ]
  },
  {
   "cell_type": "markdown",
   "id": "1ed90348-438d-421e-81a2-add6b948e166",
   "metadata": {},
   "source": [
    "### Obtencion del sello (valor 5 puntos)"
   ]
  },
  {
   "cell_type": "markdown",
   "id": "ffbc604f-9757-4864-aa52-f7005073d35f",
   "metadata": {},
   "source": [
    "Para obtener el sello con su nota debe escribir en su cuaderno el ambito conceptual, numero de competencia y objetivo, los cuales se encuentran al inicio del ejercicio."
   ]
  }
 ],
 "metadata": {
  "kernelspec": {
   "display_name": "Python 3 (ipykernel)",
   "language": "python",
   "name": "python3"
  },
  "language_info": {
   "codemirror_mode": {
    "name": "ipython",
    "version": 3
   },
   "file_extension": ".py",
   "mimetype": "text/x-python",
   "name": "python",
   "nbconvert_exporter": "python",
   "pygments_lexer": "ipython3",
   "version": "3.12.1"
  }
 },
 "nbformat": 4,
 "nbformat_minor": 5
}
